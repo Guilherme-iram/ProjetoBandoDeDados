{
 "cells": [
  {
   "cell_type": "code",
   "execution_count": 1,
   "id": "5883e90a-c561-431f-87d4-3eb1c0966696",
   "metadata": {},
   "outputs": [],
   "source": [
    "import os\n",
    "import sqlite3\n",
    "import pandas as pd\n",
    "import numpy as np\n",
    "from numpy.random import randint, randn, rand\n",
    "import matplotlib.pyplot as plt\n",
    "%matplotlib notebook"
   ]
  },
  {
   "cell_type": "code",
   "execution_count": 2,
   "id": "a9e9d71b-d540-437f-be1a-405d9f727e99",
   "metadata": {},
   "outputs": [],
   "source": [
    "def create_table(name='data'):\n",
    "    c.execute(f\"CREATE TABLE IF NOT EXISTS {name} (id INTEGER PRIMARY KEY AUTOINCREMENT NOT NULL,\"\\\n",
    "    \"x1 varFLOAT(8, 2), \"\\\n",
    "    \"x2 varFLOAT(8, 2), \"\\\n",
    "    \"x3 varFLOAT(8, 2), \"\\\n",
    "    \"y varFLOAT(8, 2))\")\n",
    "\n",
    "    \n",
    "def data_insert_raw(x1, x2, x3, y, name=\"data\"):\n",
    "    c.execute(f\"INSERT INTO {name} (x1, x2, x3, y) VALUES (?, ?, ?, ?)\", \n",
    "              (x1, x2, x3, y))\n",
    "    con.commit()\n",
    "    \n",
    "    \n",
    "def read_all_data():\n",
    "    c.execute(\"SELECT * FROM DATA\")\n",
    "    for raw in c.fetchall():\n",
    "        print(raw)\n",
    "        \n",
    "\n",
    "def read_record(cond = - np.inf):\n",
    "    c.execute(f\"SELECT * FROM PRODUTOS WHERE valor > {cond}\")\n",
    "    for linha in c.fetchall():\n",
    "        print(linha)      \n",
    "        \n",
    "def read_column(i_column):\n",
    "    c.execute(\"SELECT * FROM DATA\")\n",
    "    for raw in c.fetchall():\n",
    "        print(raw[i_column])  \n",
    "        \n",
    "\n",
    "def update_data(new_value = 0, cond = np.inf):\n",
    "    c.execute(f\"UPDATE produtos SET valor = {new_value} WHERE valor > {cond}\")\n",
    "    con.commit()\n",
    "    \n",
    "    \n",
    "def remove_data(num):\n",
    "    c.execute(f\"DELETE FROM data WHERE valor = {num}\")\n",
    "    con.commit()\n",
    "    \n",
    "\n",
    "def remove_all_data(name=\"data\"):\n",
    "    c.execute(f\"DELETE FROM {name}\")\n",
    "    con.commit()\n",
    "\n",
    "\n",
    "def remove_db(name=\"dataStorage\"):\n",
    "    os.remove(f\"{name}.db\") if os.path.exists(f\"{name}.db\") else None\n",
    "    "
   ]
  },
  {
   "cell_type": "markdown",
   "id": "5d4f7421-d2d0-44d5-9516-9bc0b4555212",
   "metadata": {},
   "source": [
    "## Conectando o banco de dados"
   ]
  },
  {
   "cell_type": "code",
   "execution_count": 15,
   "id": "d095c832-f2b7-4689-928c-cd8a55a9946f",
   "metadata": {},
   "outputs": [],
   "source": [
    "con = sqlite3.connect('cinemaSauro.db')"
   ]
  },
  {
   "cell_type": "code",
   "execution_count": 16,
   "id": "5ce0d0b1-7d7e-4596-99de-e5de27cc65fc",
   "metadata": {},
   "outputs": [],
   "source": [
    "c = con.cursor()"
   ]
  },
  {
   "cell_type": "markdown",
   "id": "bdde96b3-c3c7-41ef-bb4e-9fc04059a49d",
   "metadata": {},
   "source": [
    "### Criando tabelas"
   ]
  },
  {
   "cell_type": "code",
   "execution_count": 17,
   "id": "ff025a57-a8fb-44c4-a3ec-bc6ff1b64d20",
   "metadata": {},
   "outputs": [],
   "source": [
    "# Criando tabela Filme\n",
    "c.execute(f\"CREATE TABLE IF NOT EXISTS Filme\"\\\n",
    "    \"(cod_filme varCHAR PRIMARY KEY NOT NULL,\"\\\n",
    "    \"nome_filme varCHAR, \"\\\n",
    "    \"categoria_filme varCHAR, \"\\\n",
    "    \"duracao_filme varCHAR, \"\\\n",
    "    \"indicacao_etaria varCHAR,\"\\\n",
    "    \"empresa_produtora varCHAR,\"\\\n",
    "    \"nacional_filme varCHAR,\"\\\n",
    "    \"data_estreia varCHAR)\")\n",
    "con.commit()"
   ]
  },
  {
   "cell_type": "code",
   "execution_count": 18,
   "id": "f4f1dd8d-8294-4d3b-a0d9-0fbcd5e59f23",
   "metadata": {},
   "outputs": [],
   "source": [
    "# Criando tabela Participa_Filme_Ator\n",
    "c.execute(f\"CREATE TABLE IF NOT EXISTS Participa_Filme_Ator\"\\\n",
    "    \"(id INTEGER PRIMARY KEY AUTOINCREMENT NOT NULL,\"\\\n",
    "    \"cod_filme varCHAR,\"\\\n",
    "    \"cod_ator varCHAR)\")\n",
    "con.commit()"
   ]
  },
  {
   "cell_type": "code",
   "execution_count": 19,
   "id": "1b314836-4562-4e48-b3ca-4edbb1d6332c",
   "metadata": {},
   "outputs": [],
   "source": [
    "# Criando tabela Ator\n",
    "c.execute(f\"CREATE TABLE IF NOT EXISTS Ator\"\\\n",
    "    \"(cod_ator varCHAR PRIMARY KEY NOT NULL,\"\\\n",
    "    \"nome_ator varCHAR, \"\\\n",
    "    \"idade_ator SMALLINT, \"\\\n",
    "    \"sexo_ator CHAR(1))\")\n",
    "con.commit()"
   ]
  },
  {
   "cell_type": "markdown",
   "id": "c23d8650-f494-4891-beca-0467572e87cc",
   "metadata": {},
   "source": [
    "### Adicionando Registros"
   ]
  },
  {
   "cell_type": "code",
   "execution_count": 20,
   "id": "f2c42cac-12b2-4dc4-8512-ff27b6ab9519",
   "metadata": {},
   "outputs": [],
   "source": [
    "cod_filme = \"1234\"\n",
    "nome_filme = \"Dinossauros da Pesada\"\n",
    "categoria_filme = \"Acao\"\n",
    "duracao_filme = \"1h40\"\n",
    "indicacao_etaria = \"10\"\n",
    "empresa_produtora = \"REX Square\"\n",
    "nacional_filme = \"Sim\"\n",
    "data_estreia = \"20/11/22\"\n",
    "\n",
    "c.execute(\"INSERT INTO Filme (cod_filme,\"\\\n",
    "          \"nome_filme,\"\\\n",
    "          \"categoria_filme,\"\\\n",
    "          \"duracao_filme,\"\\\n",
    "          \"indicacao_etaria,\"\\\n",
    "          \"empresa_produtora,\"\\\n",
    "          \"nacional_filme,\"\\\n",
    "          \"data_estreia) VALUES (?, ?, ?, ?, ?, ?, ?, ?)\", \n",
    "            (cod_filme,\n",
    "            nome_filme,\n",
    "            categoria_filme,\n",
    "            duracao_filme,\n",
    "            indicacao_etaria,\n",
    "            empresa_produtora,\n",
    "            nacional_filme,\n",
    "            data_estreia))\n",
    "con.commit()"
   ]
  },
  {
   "cell_type": "code",
   "execution_count": 21,
   "id": "2ab909bd-f9ea-4e48-98c2-ebbd57686858",
   "metadata": {},
   "outputs": [],
   "source": [
    "cod_ator = \"123\"\n",
    "nome_ator = \"Ramon Dino\"\n",
    "idade_ator = 25\n",
    "sexo_ator = 'M'\n",
    "\n",
    "c.execute(\"INSERT INTO Ator\"\\\n",
    "    \"(cod_ator,\"\\\n",
    "    \"nome_ator, \"\\\n",
    "    \"idade_ator, \"\\\n",
    "    \"sexo_ator) VALUES (?, ?, ?, ?)\",\n",
    "         (cod_ator,\n",
    "         nome_ator,\n",
    "         idade_ator,\n",
    "         sexo_ator))\n",
    "\n",
    "con.commit()"
   ]
  },
  {
   "cell_type": "code",
   "execution_count": 22,
   "id": "58c4dcd0-78e8-43f1-91ff-4ce07eb87f85",
   "metadata": {},
   "outputs": [],
   "source": [
    "cod_ator = \"124\"\n",
    "nome_ator = \"Carlinha Rex\"\n",
    "idade_ator = 28\n",
    "sexo_ator = 'F'\n",
    "\n",
    "c.execute(\"INSERT INTO Ator\"\\\n",
    "    \"(cod_ator,\"\\\n",
    "    \"nome_ator, \"\\\n",
    "    \"idade_ator, \"\\\n",
    "    \"sexo_ator) VALUES (?, ?, ?, ?)\",\n",
    "         (cod_ator,\n",
    "         nome_ator,\n",
    "         idade_ator,\n",
    "         sexo_ator))\n",
    "\n",
    "con.commit()"
   ]
  },
  {
   "cell_type": "code",
   "execution_count": 23,
   "id": "ccbc7982-dabf-4fa2-a05e-e1dfac166d21",
   "metadata": {},
   "outputs": [],
   "source": [
    "cod_filme = \"1234\"\n",
    "cod_ator = \"123\"\n",
    "c.execute(\"INSERT INTO Participa_Filme_Ator\"\\\n",
    "    \"(cod_filme,\"\\\n",
    "    \"cod_ator) VALUES (?, ?)\",\n",
    "         (cod_filme,\n",
    "         cod_ator)\n",
    "         )\n",
    "\n",
    "con.commit()"
   ]
  },
  {
   "cell_type": "code",
   "execution_count": 24,
   "id": "70dd098a-a948-4aac-86f5-8f150de78394",
   "metadata": {},
   "outputs": [],
   "source": [
    "cod_filme = \"1234\"\n",
    "cod_ator = \"124\"\n",
    "c.execute(\"INSERT INTO Participa_Filme_Ator\"\\\n",
    "    \"(cod_filme,\"\\\n",
    "    \"cod_ator) VALUES (?, ?)\",\n",
    "         (cod_filme,\n",
    "         cod_ator)\n",
    "         )\n",
    "\n",
    "con.commit()"
   ]
  },
  {
   "cell_type": "code",
   "execution_count": 25,
   "id": "abb8f934-3e9d-475a-b981-994aff37239d",
   "metadata": {},
   "outputs": [],
   "source": [
    "# c.execute(\"DROP TABLE Filme\")\n",
    "# c.execute(\"DROP TABLE Participa_Filme_Ator\")\n",
    "# c.execute(\"DROP TABLE Ator\")\n",
    "# con.commit()"
   ]
  },
  {
   "cell_type": "code",
   "execution_count": 26,
   "id": "255df82c-9747-4294-9a17-2acdf88500a8",
   "metadata": {},
   "outputs": [],
   "source": [
    "c.close()"
   ]
  }
 ],
 "metadata": {
  "kernelspec": {
   "display_name": "Python 3 (ipykernel)",
   "language": "python",
   "name": "python3"
  },
  "language_info": {
   "codemirror_mode": {
    "name": "ipython",
    "version": 3
   },
   "file_extension": ".py",
   "mimetype": "text/x-python",
   "name": "python",
   "nbconvert_exporter": "python",
   "pygments_lexer": "ipython3",
   "version": "3.9.12"
  }
 },
 "nbformat": 4,
 "nbformat_minor": 5
}
